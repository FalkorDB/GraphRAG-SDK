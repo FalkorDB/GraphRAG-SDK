{
 "cells": [
  {
   "cell_type": "markdown",
   "metadata": {},
   "source": [
    "# Using GraphRAG-SDK to Create a Knowledge Graph and RAG System from Unstructured Documents\n",
    "\n",
    "GraphRAG-SDK provides a powerful tool, enhanced by LLM technology, to build a Retrieval-Augmented Generation (RAG) system. This example demonstrates how to load UFC HTML files, automatically detect ontology based on 10% of the files, and create a Knowledge Graph (KG) to enable a question-answerable RAG system."
   ]
  },
  {
   "cell_type": "code",
   "execution_count": 1,
   "metadata": {},
   "outputs": [],
   "source": [
    "!pip install graphrag_sdk[openai]"
   ]
  },
  {
   "cell_type": "code",
   "execution_count": 2,
   "metadata": {},
   "outputs": [
    {
     "data": {
      "text/plain": [
       "True"
      ]
     },
     "execution_count": 2,
     "metadata": {},
     "output_type": "execute_result"
    }
   ],
   "source": [
    "import os\n",
    "import json\n",
    "import random\n",
    "from dotenv import load_dotenv\n",
    "from graphrag_sdk.source import Source\n",
    "from graphrag_sdk import KnowledgeGraph, Ontology\n",
    "from graphrag_sdk.models.openai import OpenAiGenerativeModel\n",
    "from graphrag_sdk.model_config import KnowledgeGraphModelConfig\n",
    "\n",
    "# Load environment variables\n",
    "load_dotenv()\n",
    "\n",
    "# Configuration\n",
    "# OPENAI_API_KEY = \"sk-\"# OpenAI API key"
   ]
  },
  {
   "cell_type": "markdown",
   "metadata": {},
   "source": [
    "### Import Source Data from Disk\n",
    "\n",
    "This example uses UFC HTML files as the source data. We will import these files as `Source` objects."
   ]
  },
  {
   "cell_type": "code",
   "execution_count": 3,
   "metadata": {},
   "outputs": [],
   "source": [
    "# Data folder.\n",
    "src_files = \"examples/ufc/data/fight\"\n",
    "sources = []\n",
    "\n",
    "# For each file in the source directory, create a new Source object.\n",
    "for file in os.listdir(src_files):\n",
    "    sources.append(Source(os.path.join(src_files, file)))"
   ]
  },
  {
   "cell_type": "markdown",
   "metadata": {},
   "source": [
    "### Ontology from the Sources\n",
    "\n",
    "Next, we will utilize an LLM to automatically extract ontology from a portion of the data (10%) and save it as a JSON file for manual review. We will also add `boundaries` to the ontology detection process to ensure the desired ontology is accurately identified."
   ]
  },
  {
   "cell_type": "code",
   "execution_count": 4,
   "metadata": {},
   "outputs": [],
   "source": [
    "# Define the percentage of files that will be used to auto-create the ontology.\n",
    "percent = 0.1  # This represents 10%. You can adjust this value (e.g., 0.2 for 20%).\n",
    "\n",
    "boundaries = \"\"\"\n",
    "    Extract only the most relevant information about UFC fighters, fights, and events.\n",
    "    Avoid creating entities for details that can be expressed as attributes.\n",
    "\"\"\"\n",
    "\n",
    "# Define the model to be used for the ontology\n",
    "model = OpenAiGenerativeModel(model_name=\"gpt-4o\")\n",
    "\n",
    "# Randomly select a percentage of files from sources.\n",
    "sampled_sources = random.sample(sources, round(len(sources) * percent))\n",
    "\n",
    "ontology = Ontology.from_sources(\n",
    "    sources=sampled_sources,\n",
    "    boundaries=boundaries,\n",
    "    model=model,\n",
    ")\n",
    "\n",
    "# Save the ontology to the disk as a json file.\n",
    "with open(\"ontology.json\", \"w\", encoding=\"utf-8\") as file:\n",
    "    file.write(json.dumps(ontology.to_json(), indent=2))"
   ]
  },
  {
   "cell_type": "markdown",
   "metadata": {},
   "source": [
    "Review the Ontology"
   ]
  },
  {
   "cell_type": "code",
   "execution_count": 5,
   "metadata": {},
   "outputs": [
    {
     "name": "stdout",
     "output_type": "stream",
     "text": [
      "{\n",
      "    \"entities\": [\n",
      "        {\n",
      "            \"label\": \"Person\",\n",
      "            \"attributes\": [\n",
      "                {\n",
      "                    \"name\": \"name\",\n",
      "                    \"type\": \"string\",\n",
      "                    \"unique\": true,\n",
      "                    \"required\": true\n",
      "                },\n",
      "                {\n",
      "                    \"name\": \"nickname\",\n",
      "                    \"type\": \"string\",\n",
      "                    \"unique\": false,\n",
      "                    \"required\": false\n",
      "                }\n",
      "            ],\n",
      "            \"description\": \"\"\n",
      "        },\n",
      "        {\n",
      "            \"label\": \"FightEvent\",\n",
      "            \"attributes\": [\n",
      "                {\n",
      "                    \"name\": \"name\",\n",
      "                    \"type\": \"string\",\n",
      "                    \"unique\": true,\n",
      "                    \"required\": true\n",
      "                },\n",
      "                {\n",
      "                    \"name\": \"date\",\n",
      "                    \"type\": \"string\",\n",
      "                    \"unique\": false,\n",
      "                    \"required\": true\n",
      "                },\n",
      "                {\n",
      "                    \"name\": \"location\",\n",
      "                    \"type\": \"string\",\n",
      "                    \"unique\": false,\n",
      "                    \"required\": true\n",
      "                }\n",
      "            ],\n",
      "            \"description\": \"\"\n",
      "        },\n",
      "        {\n",
      "            \"label\": \"Bout\",\n",
      "            \"attributes\": [\n",
      "                {\n",
      "                    \"name\": \"weight_class\",\n",
      "                    \"type\": \"string\",\n",
      "                    \"unique\": false,\n",
      "                    \"required\": true\n",
      "                },\n",
      "                {\n",
      "                    \"name\": \"method\",\n",
      "                    \"type\": \"string\",\n",
      "                    \"unique\": false,\n",
      "                    \"required\": true\n",
      "                },\n",
      "                {\n",
      "                    \"name\": \"round\",\n",
      "                    \"type\": \"number\",\n",
      "                    \"unique\": false,\n",
      "                    \"required\": true\n",
      "                },\n",
      "                {\n",
      "                    \"name\": \"time\",\n",
      "                    \"type\": \"string\",\n",
      "                    \"unique\": false,\n",
      "                    \"required\": true\n",
      "                },\n",
      "                {\n",
      "                    \"name\": \"time_format\",\n",
      "                    \"type\": \"string\",\n",
      "                    \"unique\": false,\n",
      "                    \"required\": true\n",
      "                },\n",
      "                {\n",
      "                    \"name\": \"referee\",\n",
      "                    \"type\": \"string\",\n",
      "                    \"unique\": false,\n",
      "                    \"required\": false\n",
      "                }\n",
      "            ],\n",
      "            \"description\": \"\"\n",
      "        }\n",
      "    ],\n",
      "    \"relations\": [\n",
      "        {\n",
      "            \"label\": \"FOUGHT_IN\",\n",
      "            \"source\": {\n",
      "                \"label\": \"Person\"\n",
      "            },\n",
      "            \"target\": {\n",
      "                \"label\": \"Bout\"\n",
      "            },\n",
      "            \"attributes\": [\n",
      "                {\n",
      "                    \"name\": \"result\",\n",
      "                    \"type\": \"string\",\n",
      "                    \"unique\": false,\n",
      "                    \"required\": true\n",
      "                },\n",
      "                {\n",
      "                    \"name\": \"knockdowns\",\n",
      "                    \"type\": \"number\",\n",
      "                    \"unique\": false,\n",
      "                    \"required\": false\n",
      "                },\n",
      "                {\n",
      "                    \"name\": \"significant_strikes\",\n",
      "                    \"type\": \"number\",\n",
      "                    \"unique\": false,\n",
      "                    \"required\": false\n",
      "                },\n",
      "                {\n",
      "                    \"name\": \"significant_strikes_attempted\",\n",
      "                    \"type\": \"number\",\n",
      "                    \"unique\": false,\n",
      "                    \"required\": false\n",
      "                },\n",
      "                {\n",
      "                    \"name\": \"significant_strikes_percentage\",\n",
      "                    \"type\": \"string\",\n",
      "                    \"unique\": false,\n",
      "                    \"required\": false\n",
      "                },\n",
      "                {\n",
      "                    \"name\": \"total_strikes\",\n",
      "                    \"type\": \"number\",\n",
      "                    \"unique\": false,\n",
      "                    \"required\": false\n",
      "                },\n",
      "                {\n",
      "                    \"name\": \"total_strikes_attempted\",\n",
      "                    \"type\": \"number\",\n",
      "                    \"unique\": false,\n",
      "                    \"required\": false\n",
      "                },\n",
      "                {\n",
      "                    \"name\": \"takedowns\",\n",
      "                    \"type\": \"number\",\n",
      "                    \"unique\": false,\n",
      "                    \"required\": false\n",
      "                },\n",
      "                {\n",
      "                    \"name\": \"takedowns_attempted\",\n",
      "                    \"type\": \"number\",\n",
      "                    \"unique\": false,\n",
      "                    \"required\": false\n",
      "                },\n",
      "                {\n",
      "                    \"name\": \"takedown_percentage\",\n",
      "                    \"type\": \"string\",\n",
      "                    \"unique\": false,\n",
      "                    \"required\": false\n",
      "                },\n",
      "                {\n",
      "                    \"name\": \"submissions_attempted\",\n",
      "                    \"type\": \"number\",\n",
      "                    \"unique\": false,\n",
      "                    \"required\": false\n",
      "                },\n",
      "                {\n",
      "                    \"name\": \"passes\",\n",
      "                    \"type\": \"number\",\n",
      "                    \"unique\": false,\n",
      "                    \"required\": false\n",
      "                },\n",
      "                {\n",
      "                    \"name\": \"reversals\",\n",
      "                    \"type\": \"number\",\n",
      "                    \"unique\": false,\n",
      "                    \"required\": false\n",
      "                }\n",
      "            ]\n",
      "        },\n",
      "        {\n",
      "            \"label\": \"PART_OF_EVENT\",\n",
      "            \"source\": {\n",
      "                \"label\": \"Bout\"\n",
      "            },\n",
      "            \"target\": {\n",
      "                \"label\": \"FightEvent\"\n",
      "            },\n",
      "            \"attributes\": []\n",
      "        },\n",
      "        {\n",
      "            \"label\": \"PART_OF\",\n",
      "            \"source\": {\n",
      "                \"label\": \"Bout\"\n",
      "            },\n",
      "            \"target\": {\n",
      "                \"label\": \"FightEvent\"\n",
      "            },\n",
      "            \"attributes\": []\n",
      "        }\n",
      "    ]\n",
      "}\n"
     ]
    }
   ],
   "source": [
    "print(json.dumps(ontology.to_json(), indent=4))"
   ]
  },
  {
   "cell_type": "markdown",
   "metadata": {},
   "source": [
    "### KG from Sources and Ontology\n",
    "\n",
    "After reviewing the ontology, we will load it and use it to create a Knowledge Graph (KG) from the sources."
   ]
  },
  {
   "cell_type": "code",
   "execution_count": 6,
   "metadata": {},
   "outputs": [],
   "source": [
    "# After approving the ontology, load it from disk.\n",
    "ontology_file = \"ontology.json\"\n",
    "with open(ontology_file, \"r\", encoding=\"utf-8\") as file:\n",
    "    ontology = Ontology.from_json(json.loads(file.read()))\n",
    "\n",
    "kg = KnowledgeGraph(\n",
    "    name=\"ufc\",\n",
    "    model_config=KnowledgeGraphModelConfig.with_model(model),\n",
    "    ontology=ontology,\n",
    ")\n",
    "kg.process_sources(sources)"
   ]
  },
  {
   "cell_type": "markdown",
   "metadata": {},
   "source": [
    "### Graph RAG\n",
    "\n",
    "At this point, we have a Knowledge Graph based on our data, and we can use it in our GraphRAG system. Utilize the method `chat_session` method for starting a conversation."
   ]
  },
  {
   "cell_type": "code",
   "execution_count": 7,
   "metadata": {},
   "outputs": [
    {
     "name": "stdout",
     "output_type": "stream",
     "text": [
      "{'question': 'Who is Salsa Boy?', 'response': 'Waldo Cortes-Acosta is Salsa Boy.', 'context': '[[\\'(:Person{name:\"Waldo Cortes-Acosta\",nickname:\"Salsa Boy\"})\\']]', 'cypher': \"MATCH (p:Person) WHERE p.nickname CONTAINS 'Salsa Boy' RETURN p\"}\n",
      "{'question': 'Tell me about one of his fights?', 'response': 'Waldo Cortes-Acosta, also known as Salsa Boy, fought in a bout at UFC 284: Makhachev vs. Volkanovski, held on February 11, 2023, in Perth, Western Australia, Australia. He won the fight by submission in the second round, at 4:05. In this fight, he displayed impressive skills with 52 significant strikes out of 101 attempted, achieving a 51.49% success rate. He also attempted 4 takedowns, successfully completing 3 for a 75.00% success rate, and attempted 1 submission.', 'context': '[[\\'(:Person{name:\"Waldo Cortes-Acosta\",nickname:\"Salsa Boy\"})\\', \\'()-[:FOUGHT_IN{knockdowns:0,passes:0,result:\"Win\",reversals:0,significant_strikes:52,significant_strikes_attempted:101,significant_strikes_percentage:\"51.49%\",submissions_attempted:1,takedown_percentage:\"75.00%\",takedowns:3,takedowns_attempted:4,total_strikes:130,total_strikes_attempted:204}]->()\\', \\'(:Bout{method:\"Submission\",referee:\"Osiris Maia\",round:2,time:\"4:05\",time_format:\"3 Rounds (5-5-5)\",weight_class:\"Lightweight\"})\\', \\'(:FightEvent{date:\"2023-02-11\",location:\"Perth, Western Australia, Australia\",name:\"UFC 284: Makhachev vs. Volkanovski\"})\\']]', 'cypher': \"MATCH (p:Person)-[f:FOUGHT_IN]->(b:Bout)-[:PART_OF_EVENT]->(e:FightEvent) WHERE p.nickname CONTAINS 'Salsa Boy' RETURN p, f, b, e LIMIT 1\"}\n"
     ]
    }
   ],
   "source": [
    "# Conversation.\n",
    "chat = kg.chat_session()\n",
    "response = chat.send_message(\"Who is Salsa Boy?\")\n",
    "print(response)\n",
    "response = chat.send_message(\"Tell me about one of his fights?\")\n",
    "print(response)"
   ]
  }
 ],
 "metadata": {
  "kernelspec": {
   "display_name": "graphrag-sdk-ceBr3E7y-py3.12",
   "language": "python",
   "name": "python3"
  },
  "language_info": {
   "codemirror_mode": {
    "name": "ipython",
    "version": 3
   },
   "file_extension": ".py",
   "mimetype": "text/x-python",
   "name": "python",
   "nbconvert_exporter": "python",
   "pygments_lexer": "ipython3",
   "version": "3.12.3"
  }
 },
 "nbformat": 4,
 "nbformat_minor": 2
}
