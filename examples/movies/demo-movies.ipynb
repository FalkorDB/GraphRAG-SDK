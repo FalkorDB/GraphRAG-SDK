{
 "cells": [
  {
   "cell_type": "markdown",
   "metadata": {},
   "source": [
    "# Basic usage of the GraphRAG-SDK to Create a Knowledge Graph and RAG System\n",
    "\n",
    "The following example demonstrates the basic usage of this SDK to create a GraphRAG using URLs with auto-detected ontology."
   ]
  },
  {
   "cell_type": "code",
   "execution_count": null,
   "metadata": {},
   "outputs": [],
   "source": [
    "!pip install graphrag_sdk"
   ]
  },
  {
   "cell_type": "code",
   "execution_count": 1,
   "metadata": {},
   "outputs": [
    {
     "data": {
      "text/plain": [
       "True"
      ]
     },
     "execution_count": 33,
     "metadata": {},
     "output_type": "execute_result"
    }
   ],
   "source": [
    "from dotenv import load_dotenv\n",
    "from graphrag_sdk.source import URL\n",
    "from graphrag_sdk import KnowledgeGraph, Ontology\n",
    "from graphrag_sdk.models.openai import OpenAiGenerativeModel\n",
    "from graphrag_sdk.model_config import KnowledgeGraphModelConfig\n",
    "\n",
    "# Load environment variables\n",
    "load_dotenv()\n",
    "\n",
    "# Configuration\n",
    "# OPENAI_API_KEY = \"sk-\"# OpenAI API key\n"
   ]
  },
  {
   "cell_type": "markdown",
   "metadata": {},
   "source": [
    "### Import Source Data from URLs\n",
    "\n",
    "This example uses rottentomatoes URL files as the source data. We will import these files as `Source` objects."
   ]
  },
  {
   "cell_type": "code",
   "execution_count": 1,
   "metadata": {},
   "outputs": [],
   "source": [
    "urls = [\"https://www.rottentomatoes.com/m/side_by_side_2012\",\n",
    "\"https://www.rottentomatoes.com/m/matrix\",\n",
    "\"https://www.rottentomatoes.com/m/matrix_revolutions\",\n",
    "\"https://www.rottentomatoes.com/m/matrix_reloaded\",\n",
    "\"https://www.rottentomatoes.com/m/speed_1994\",\n",
    "\"https://www.rottentomatoes.com/m/john_wick_chapter_4\"]\n",
    "\n",
    "sources = [URL(url) for url in urls]"
   ]
  },
  {
   "cell_type": "markdown",
   "metadata": {},
   "source": [
    "### Ontology from the Sources\n",
    "\n",
    "Next, we will utilize an LLM to automatically extract ontology from the data. We will also add `boundaries` to the ontology detection process to ensure the desired ontology is accurately identified."
   ]
  },
  {
   "cell_type": "code",
   "execution_count": 1,
   "metadata": {},
   "outputs": [],
   "source": [
    "model = OpenAiGenerativeModel(model_name=\"gpt-4o\")\n",
    "\n",
    "ontology = Ontology.from_sources(\n",
    "    sources=sources,\n",
    "    model=model,\n",
    ")"
   ]
  },
  {
   "cell_type": "markdown",
   "metadata": {},
   "source": [
    "### KG from Sources and Ontology\n",
    "\n",
    "Create a Knowledge Graph (KG) from the sources."
   ]
  },
  {
   "cell_type": "code",
   "execution_count": 1,
   "metadata": {},
   "outputs": [],
   "source": [
    "kg = KnowledgeGraph(\n",
    "    name=\"movies\",\n",
    "    model_config=KnowledgeGraphModelConfig.with_model(model),\n",
    "    ontology=ontology,\n",
    ")\n",
    "kg.process_sources(sources)"
   ]
  },
  {
   "cell_type": "markdown",
   "metadata": {},
   "source": [
    "### Graph RAG\n",
    "\n",
    "Utilize the `chat_session` method to start a conversations."
   ]
  },
  {
   "cell_type": "code",
   "execution_count": 1,
   "metadata": {},
   "outputs": [
    {
     "name": "stdout",
     "output_type": "stream",
     "text": [
      "The director of the movie The Matrix is The Wachowskis.\n",
      "The Wachowskis are connected to Keanu Reeves through the movie \"The Matrix,\" where The Wachowskis directed and Keanu Reeves acted.\n",
      "The directors of the movie Side by Side are James Cameron, David Fincher, Martin Scorsese, and Christopher Nolan.\n",
      "The directors, ordered by lexical order, are: \n",
      "\n",
      "1. Christopher Nolan\n",
      "2. David Fincher\n",
      "3. James Cameron\n",
      "4. Martin Scorsese\n",
      "5. The Wachowskis\n"
     ]
    }
   ],
   "source": [
    "chat = kg.chat_session()\n",
    "\n",
    "print(chat.send_message(\"Who is the director of the movie The Matrix?\"))\n",
    "print(chat.send_message(\"How this director connected to Keanu Reeves?\"))\n",
    "print(chat.send_message(\"Who is the director of the movie Side by Side?\"))\n",
    "print(chat.send_message(\"Order the directors that you mentioned in all of our conversation by lexical order.\"))"
   ]
  }
 ],
 "metadata": {
  "kernelspec": {
   "display_name": "Poetry Env2",
   "language": "python",
   "name": "my-poetry-env"
  },
  "language_info": {
   "codemirror_mode": {
    "name": "ipython",
    "version": 3
   },
   "file_extension": ".py",
   "mimetype": "text/x-python",
   "name": "python",
   "nbconvert_exporter": "python",
   "pygments_lexer": "ipython3",
   "version": "3.11.10"
  }
 },
 "nbformat": 4,
 "nbformat_minor": 2
}
