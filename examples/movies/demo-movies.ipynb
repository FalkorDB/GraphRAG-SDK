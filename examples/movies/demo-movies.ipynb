{
 "cells": [
  {
   "cell_type": "markdown",
   "metadata": {},
   "source": [
    "# Basic usage of the GraphRAG-SDK to Create a Knowledge Graph and RAG System\n",
    "\n",
    "The following example demonstrates the basic usage of this SDK to create a GraphRAG using URLs with auto-detected ontology."
   ]
  },
  {
   "cell_type": "code",
   "execution_count": null,
   "metadata": {},
   "outputs": [],
   "source": [
    "!pip install graphrag_sdk[openai]"
   ]
  },
  {
   "cell_type": "code",
   "execution_count": 11,
   "metadata": {},
   "outputs": [
    {
     "data": {
      "text/plain": [
       "True"
      ]
     },
     "execution_count": 11,
     "metadata": {},
     "output_type": "execute_result"
    }
   ],
   "source": [
    "from dotenv import load_dotenv\n",
    "from graphrag_sdk.source import URL\n",
    "from graphrag_sdk import KnowledgeGraph, Ontology\n",
    "from graphrag_sdk.models.openai import OpenAiGenerativeModel\n",
    "from graphrag_sdk.model_config import KnowledgeGraphModelConfig\n",
    "\n",
    "# Load environment variables\n",
    "load_dotenv()\n",
    "\n",
    "# Configuration\n",
    "# OPENAI_API_KEY = \"sk-\"# OpenAI API key\n"
   ]
  },
  {
   "cell_type": "markdown",
   "metadata": {},
   "source": [
    "### Import Source Data from URLs\n",
    "\n",
    "This example uses rottentomatoes URL files as the source data. We will import these files as `Source` objects."
   ]
  },
  {
   "cell_type": "code",
   "execution_count": 12,
   "metadata": {},
   "outputs": [],
   "source": [
    "urls = [\"https://www.rottentomatoes.com/m/side_by_side_2012\",\n",
    "\"https://www.rottentomatoes.com/m/matrix\",\n",
    "\"https://www.rottentomatoes.com/m/matrix_revolutions\",\n",
    "\"https://www.rottentomatoes.com/m/matrix_reloaded\",\n",
    "\"https://www.rottentomatoes.com/m/speed_1994\",\n",
    "\"https://www.rottentomatoes.com/m/john_wick_chapter_4\"]\n",
    "\n",
    "sources = [URL(url) for url in urls]"
   ]
  },
  {
   "cell_type": "markdown",
   "metadata": {},
   "source": [
    "### Ontology from the Sources\n",
    "\n",
    "Next, we will utilize an LLM to automatically extract ontology from the data. We will also add `boundaries` to the ontology detection process to ensure the desired ontology is accurately identified."
   ]
  },
  {
   "cell_type": "code",
   "execution_count": 13,
   "metadata": {},
   "outputs": [],
   "source": [
    "model = OpenAiGenerativeModel(model_name=\"gpt-4o\")\n",
    "\n",
    "boundaries = \"\"\"\n",
    "    Extract only the most relevant information about all the movies, actors, and directors over the text.\n",
    "    Avoid creating entities for details that can be expressed as attributes.\n",
    "\"\"\"\n",
    "\n",
    "ontology = Ontology.from_sources(\n",
    "    sources=sources,\n",
    "    boundaries=boundaries,\n",
    "    model=model,\n",
    ")"
   ]
  },
  {
   "cell_type": "markdown",
   "metadata": {},
   "source": [
    "### KG from Sources and Ontology\n",
    "\n",
    "Create a Knowledge Graph (KG) from the sources."
   ]
  },
  {
   "cell_type": "code",
   "execution_count": 14,
   "metadata": {},
   "outputs": [],
   "source": [
    "kg = KnowledgeGraph(\n",
    "    name=\"movies\",\n",
    "    model_config=KnowledgeGraphModelConfig.with_model(model),\n",
    "    ontology=ontology,\n",
    ")\n",
    "kg.process_sources(sources)"
   ]
  },
  {
   "cell_type": "markdown",
   "metadata": {},
   "source": [
    "### Graph RAG\n",
    "\n",
    "Utilize the `chat_session` method to start a conversations."
   ]
  },
  {
   "cell_type": "code",
   "execution_count": 16,
   "metadata": {},
   "outputs": [
    {
     "name": "stdout",
     "output_type": "stream",
     "text": [
      "The directors of the movie \"The Matrix\" are Lilly Wachowski and Lana Wachowski.\n",
      "The directors, Lilly Wachowski and Lana Wachowski, are connected to Keanu Reeves through their collaboration on the movies \"The Matrix,\" \"The Matrix Reloaded,\" and \"The Matrix Revolutions,\" in which Keanu Reeves acted.\n",
      "The director of the movie \"Side by Side\" is Chris Kenneally.\n",
      "The directors, ordered lexically, are Chris Kenneally, Lana Wachowski, and Lilly Wachowski.\n"
     ]
    }
   ],
   "source": [
    "chat = kg.chat_session()\n",
    "\n",
    "print(chat.send_message(\"Who is the director of the movie The Matrix?\"))\n",
    "print(chat.send_message(\"How this director connected to Keanu Reeves?\"))\n",
    "print(chat.send_message(\"Who is the director of the movie Side by Side?\"))\n",
    "print(chat.send_message(\"Order the directors that you mentioned in all of our conversation by lexical order.\"))"
   ]
  }
 ],
 "metadata": {
  "kernelspec": {
   "display_name": "graphrag-sdk-ceBr3E7y-py3.12",
   "language": "python",
   "name": "python3"
  },
  "language_info": {
   "codemirror_mode": {
    "name": "ipython",
    "version": 3
   },
   "file_extension": ".py",
   "mimetype": "text/x-python",
   "name": "python",
   "nbconvert_exporter": "python",
   "pygments_lexer": "ipython3",
   "version": "3.12.3"
  }
 },
 "nbformat": 4,
 "nbformat_minor": 2
}
