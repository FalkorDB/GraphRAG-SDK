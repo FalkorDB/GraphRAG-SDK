{
 "cells": [
  {
   "cell_type": "markdown",
   "metadata": {},
   "source": [
    "# Basic usage of the GraphRAG-SDK to Create a Knowledge Graph and RAG System\n",
    "\n",
    "The following example demonstrates the basic usage of this SDK to create a GraphRAG using URLs with auto-detected ontology."
   ]
  },
  {
   "cell_type": "code",
   "execution_count": 1,
   "metadata": {},
   "outputs": [],
   "source": [
    "!pip install graphrag_sdk[openai]"
   ]
  },
  {
   "cell_type": "code",
   "execution_count": 2,
   "metadata": {},
   "outputs": [
    {
     "data": {
      "text/plain": [
       "True"
      ]
     },
     "execution_count": 2,
     "metadata": {},
     "output_type": "execute_result"
    }
   ],
   "source": [
    "from dotenv import load_dotenv\n",
    "from graphrag_sdk.source import URL\n",
    "from graphrag_sdk import KnowledgeGraph, Ontology\n",
    "from graphrag_sdk.models.openai import OpenAiGenerativeModel\n",
    "from graphrag_sdk.model_config import KnowledgeGraphModelConfig\n",
    "\n",
    "# Load environment variables\n",
    "load_dotenv()\n",
    "\n",
    "# Configuration\n",
    "# OPENAI_API_KEY = \"sk-\"# OpenAI API key\n"
   ]
  },
  {
   "cell_type": "markdown",
   "metadata": {},
   "source": [
    "### Import Source Data from URLs\n",
    "\n",
    "This example uses rottentomatoes URL files as the source data. We will import these files as `Source` objects."
   ]
  },
  {
   "cell_type": "code",
   "execution_count": 3,
   "metadata": {},
   "outputs": [],
   "source": [
    "urls = [\"https://www.rottentomatoes.com/m/side_by_side_2012\",\n",
    "\"https://www.rottentomatoes.com/m/matrix\",\n",
    "\"https://www.rottentomatoes.com/m/matrix_revolutions\",\n",
    "\"https://www.rottentomatoes.com/m/matrix_reloaded\",\n",
    "\"https://www.rottentomatoes.com/m/speed_1994\",\n",
    "\"https://www.rottentomatoes.com/m/john_wick_chapter_4\"]\n",
    "\n",
    "sources = [URL(url) for url in urls]"
   ]
  },
  {
   "cell_type": "markdown",
   "metadata": {},
   "source": [
    "### Ontology from the Sources\n",
    "\n",
    "Next, we will utilize an LLM to automatically extract ontology from the data. We will also add `boundaries` to the ontology detection process to ensure the desired ontology is accurately identified."
   ]
  },
  {
   "cell_type": "code",
   "execution_count": 4,
   "metadata": {},
   "outputs": [],
   "source": [
    "model = OpenAiGenerativeModel(model_name=\"gpt-4o\")\n",
    "\n",
    "boundaries = \"\"\"\n",
    "    Extract only the most relevant information about all the movies, actors, and directors over the text.\n",
    "    Avoid creating entities for details that can be expressed as attributes.\n",
    "\"\"\"\n",
    "\n",
    "ontology = Ontology.from_sources(\n",
    "    sources=sources,\n",
    "    boundaries=boundaries,\n",
    "    model=model,\n",
    ")"
   ]
  },
  {
   "cell_type": "markdown",
   "metadata": {},
   "source": [
    "### KG from Sources and Ontology\n",
    "\n",
    "Create a Knowledge Graph (KG) from the sources."
   ]
  },
  {
   "cell_type": "code",
   "execution_count": 5,
   "metadata": {},
   "outputs": [],
   "source": [
    "kg = KnowledgeGraph(\n",
    "    name=\"movies\",\n",
    "    model_config=KnowledgeGraphModelConfig.with_model(model),\n",
    "    ontology=ontology,\n",
    ")\n",
    "kg.process_sources(sources)"
   ]
  },
  {
   "cell_type": "markdown",
   "metadata": {},
   "source": [
    "### Graph RAG\n",
    "\n",
    "Utilize the `chat_session` method to start a conversations."
   ]
  },
  {
   "cell_type": "code",
   "execution_count": 6,
   "metadata": {},
   "outputs": [
    {
     "name": "stdout",
     "output_type": "stream",
     "text": [
      "{'question': 'Who is the director of the movie The Matrix?', 'response': 'The directors of the movie \"The Matrix\" are Lilly Wachowski and Lana Wachowski.', 'context': '[[\\'(:Movie{box_office_gross_usa:0,duration:\"2h 18m\",genre:\"Sci-Fi, Action\",popcornmeter_score:72,rating:\"R\",release_date:\"2003-05-15\",runtime:\"2h 18m\",title:\"The Matrix Reloaded\",tomatometer_score:74})\\', \\'(:Person{name:\"Lilly Wachowski\"})\\'], [\\'(:Movie{box_office_gross_usa:0,duration:\"2h 18m\",genre:\"Sci-Fi, Action\",popcornmeter_score:72,rating:\"R\",release_date:\"2003-05-15\",runtime:\"2h 18m\",title:\"The Matrix Reloaded\",tomatometer_score:74})\\', \\'(:Person{name:\"Lana Wachowski\"})\\'], [\\'(:Movie{box_office_gross_usa:0,duration:\"2h 16m\",genre:\"Sci-Fi, Action, Mystery & Thriller\",popcornmeter_score:85,rating:\"R\",release_date:\"1999-03-31\",title:\"The Matrix\",tomatometer_score:83})\\', \\'(:Person{name:\"Lilly Wachowski\"})\\'], [\\'(:Movie{box_office_gross_usa:0,duration:\"2h 16m\",genre:\"Sci-Fi, Action, Mystery & Thriller\",popcornmeter_score:85,rating:\"R\",release_date:\"1999-03-31\",title:\"The Matrix\",tomatometer_score:83})\\', \\'(:Person{name:\"Lana Wachowski\"})\\']]', 'cypher': \"\\nMATCH (m:Movie)-[:DIRECTED_BY]->(p:Person)\\nWHERE m.title CONTAINS 'The Matrix'\\nRETURN m, p\\n\"}\n",
      "{'question': 'How this director connected to Keanu Reeves?', 'response': 'The directors Lilly Wachowski and Lana Wachowski are connected to Keanu Reeves through the movie \"The Matrix,\" where Keanu Reeves acted in the film.', 'context': '[[\\'(:Person{name:\"Lilly Wachowski\"})\\', \\'(:Movie{box_office_gross_usa:0,duration:\"2h 16m\",genre:\"Sci-Fi, Action, Mystery & Thriller\",popcornmeter_score:85,rating:\"R\",release_date:\"1999-03-31\",title:\"The Matrix\",tomatometer_score:83})\\', \\'(:Person{name:\"Keanu Reeves\",role:\"John Wick\"})\\'], [\\'(:Person{name:\"Lana Wachowski\"})\\', \\'(:Movie{box_office_gross_usa:0,duration:\"2h 16m\",genre:\"Sci-Fi, Action, Mystery & Thriller\",popcornmeter_score:85,rating:\"R\",release_date:\"1999-03-31\",title:\"The Matrix\",tomatometer_score:83})\\', \\'(:Person{name:\"Keanu Reeves\",role:\"John Wick\"})\\']]', 'cypher': \"\\nMATCH (p:Person)-[:DIRECTED]->(m:Movie)<-[:ACTED_IN]-(k:Person)\\nWHERE p.name IN ['Lilly Wachowski', 'Lana Wachowski'] AND k.name CONTAINS 'Keanu Reeves'\\nRETURN p, m, k\\n\"}\n",
      "{'question': 'Who is the director of the movie Side by Side?', 'response': 'The director of the movie \"Side by Side\" is Chris Kenneally.', 'context': '[[\\'(:Movie{box_office_gross_usa:0,duration:\"1h 38m\",genre:\"Documentary\",popcornmeter_score:86,rating:\"Not Rated\",release_date:\"2012-08-17\",runtime:\"1h 38m\",title:\"Side by Side\",tomatometer_score:92})\\', \\'(:Person{name:\"Chris Kenneally\"})\\']]', 'cypher': \"\\nMATCH (m:Movie)-[:DIRECTED_BY]->(p:Person)\\nWHERE m.title CONTAINS 'Side by Side'\\nRETURN m, p\\n\"}\n",
      "{'question': 'Order the directors that you mentioned in all of our conversation by lexical order.', 'response': 'The directors, ordered lexically, are Chris Kenneally, Lana Wachowski, and Lilly Wachowski.', 'context': '[[\\'(:Person{name:\"Chris Kenneally\"})\\'], [\\'(:Person{name:\"Lana Wachowski\"})\\'], [\\'(:Person{name:\"Lilly Wachowski\"})\\']]', 'cypher': \"\\nMATCH (p:Person)\\nWHERE p.name IN ['Lilly Wachowski', 'Lana Wachowski', 'Chris Kenneally']\\nRETURN p\\nORDER BY p.name\\n\"}\n"
     ]
    }
   ],
   "source": [
    "chat = kg.chat_session()\n",
    "\n",
    "print(chat.send_message(\"Who is the director of the movie The Matrix?\"))\n",
    "print(chat.send_message(\"How this director connected to Keanu Reeves?\"))\n",
    "print(chat.send_message(\"Who is the director of the movie Side by Side?\"))\n",
    "print(chat.send_message(\"Order the directors that you mentioned in all of our conversation by lexical order.\"))"
   ]
  }
 ],
 "metadata": {
  "kernelspec": {
   "display_name": "graphrag-sdk-ceBr3E7y-py3.12",
   "language": "python",
   "name": "python3"
  },
  "language_info": {
   "codemirror_mode": {
    "name": "ipython",
    "version": 3
   },
   "file_extension": ".py",
   "mimetype": "text/x-python",
   "name": "python",
   "nbconvert_exporter": "python",
   "pygments_lexer": "ipython3",
   "version": "3.12.3"
  }
 },
 "nbformat": 4,
 "nbformat_minor": 2
}
