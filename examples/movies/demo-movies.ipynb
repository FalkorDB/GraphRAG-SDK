{
 "cells": [
  {
   "cell_type": "markdown",
   "metadata": {},
   "source": [
    "# Basic usage of the GraphRAG-SDK to Create a Knowledge Graph and RAG System\n",
    "\n",
    "The following example demonstrates the basic usage of this SDK to create a GraphRAG using URLs with auto-detected ontology."
   ]
  },
  {
   "cell_type": "code",
   "execution_count": null,
   "metadata": {},
   "outputs": [],
   "source": [
    "!pip install graphrag_sdk[litellm]"
   ]
  },
  {
   "cell_type": "code",
   "execution_count": 1,
   "metadata": {},
   "outputs": [],
   "source": [
    "import os\n",
    "import logging\n",
    "from dotenv import load_dotenv\n",
    "from graphrag_sdk.source import URL\n",
    "from graphrag_sdk import KnowledgeGraph, Ontology\n",
    "from graphrag_sdk.models.litellm import LiteModel\n",
    "from graphrag_sdk.model_config import KnowledgeGraphModelConfig\n",
    "\n",
    "# Load environment variables\n",
    "load_dotenv()\n",
    "logging.disable(logging.CRITICAL)"
   ]
  },
  {
   "cell_type": "markdown",
   "metadata": {},
   "source": [
    "Configurations"
   ]
  },
  {
   "cell_type": "code",
   "execution_count": null,
   "metadata": {},
   "outputs": [],
   "source": [
    "# Get your Credentails from google website, see https://aistudio.google.com/\n",
    "os.environ[\"GEMINI_API_KEY\"] = \"\"\n",
    "\n",
    "# Get your Credentails from Falkor website, see https://app.falkordb.cloud\n",
    "falkor_host = \"\"\n",
    "falkor_port = None\n",
    "falkor_username = \"\"\n",
    "falkor_password = \"\""
   ]
  },
  {
   "cell_type": "markdown",
   "metadata": {},
   "source": [
    "### Import Source Data from URLs\n",
    "\n",
    "This example uses rottentomatoes URL files as the source data. We will import these files as `Source` objects."
   ]
  },
  {
   "cell_type": "code",
   "execution_count": 3,
   "metadata": {},
   "outputs": [],
   "source": [
    "urls = [\n",
    "    \"https://www.rottentomatoes.com/m/side_by_side_2012\",\n",
    "    \"https://www.rottentomatoes.com/m/matrix\",\n",
    "    \"https://www.rottentomatoes.com/m/matrix_revolutions\",\n",
    "    \"https://www.rottentomatoes.com/m/matrix_reloaded\",\n",
    "    \"https://www.rottentomatoes.com/m/speed_1994\",\n",
    "    \"https://www.rottentomatoes.com/m/john_wick_chapter_4\",\n",
    "]\n",
    "\n",
    "sources = [URL(url) for url in urls]"
   ]
  },
  {
   "cell_type": "markdown",
   "metadata": {},
   "source": [
    "### Ontology from the Sources\n",
    "\n",
    "Next, we will utilize an LLM to automatically extract ontology from the data. We will also add `boundaries` to the ontology detection process to ensure the desired ontology is accurately identified."
   ]
  },
  {
   "cell_type": "code",
   "execution_count": 4,
   "metadata": {},
   "outputs": [],
   "source": [
    "model = LiteModel(model_name=\"gemini/gemini-2.0-flash-exp\")\n",
    "\n",
    "boundaries = \"\"\"\n",
    "    Extract only the most relevant information about all the movies, actors, and directors over the text.\n",
    "    Avoid creating entities for details that can be expressed as attributes.\n",
    "\"\"\"\n",
    "\n",
    "ontology = Ontology.from_sources(\n",
    "    sources=sources,\n",
    "    boundaries=boundaries,\n",
    "    model=model,\n",
    ")"
   ]
  },
  {
   "cell_type": "markdown",
   "metadata": {},
   "source": [
    "### KG from Sources and Ontology\n",
    "\n",
    "Create a Knowledge Graph (KG) from the sources."
   ]
  },
  {
   "cell_type": "code",
   "execution_count": 5,
   "metadata": {},
   "outputs": [],
   "source": [
    "kg = KnowledgeGraph(\n",
    "    name=\"movies\",\n",
    "    model_config=KnowledgeGraphModelConfig.with_model(model),\n",
    "    ontology=ontology,\n",
    "    host=falkor_host,\n",
    "    port=falkor_port,\n",
    "    username=falkor_username,\n",
    "    password=falkor_password,\n",
    ")\n",
    "kg.process_sources(sources)"
   ]
  },
  {
   "cell_type": "markdown",
   "metadata": {},
   "source": [
    "### Graph RAG\n",
    "\n",
    "Utilize the `chat_session` method to start a conversations."
   ]
  },
  {
   "cell_type": "code",
   "execution_count": 6,
   "metadata": {},
   "outputs": [
    {
     "name": "stdout",
     "output_type": "stream",
     "text": [
      "Q: Who is the director of the movie The Matrix? \n",
      "A: Lilly Wachowski and Lana Wachowski are the directors of the movie The Matrix.\n",
      "\n",
      "\n",
      "Q: How this director connected to Keanu Reeves? \n",
      "A: Lilly Wachowski and Lana Wachowski directed movies in which Keanu Reeves acted.\n",
      "\n",
      "\n",
      "Q: Who is the director of the movie Side by Side? \n",
      "A: Christopher Kenneally is the director of the movie Side by Side.\n",
      "\n",
      "\n",
      "Q: Order the directors that you mentioned in all of our conversation by lexical order. \n",
      "A: The directors in lexical order are: Christopher Kenneally, Lana Wachowski, and Lilly Wachowski.\n",
      "\n",
      "\n"
     ]
    }
   ],
   "source": [
    "chat = kg.chat_session()\n",
    "\n",
    "answer = chat.send_message(\"Who is the director of the movie The Matrix?\")\n",
    "print(f\"Q: {answer['question']} \\nA: {answer['response']}\\n\")\n",
    "\n",
    "answer = chat.send_message(\"How this director connected to Keanu Reeves?\")\n",
    "print(f\"Q: {answer['question']} \\nA: {answer['response']}\\n\")\n",
    "\n",
    "answer = chat.send_message(\"Who is the director of the movie Side by Side?\")\n",
    "print(f\"Q: {answer['question']} \\nA: {answer['response']}\\n\")\n",
    "\n",
    "answer = chat.send_message(\n",
    "    \"Order the directors that you mentioned in all of our conversation by lexical order.\"\n",
    ")\n",
    "print(f\"Q: {answer['question']} \\nA: {answer['response']}\\n\")"
   ]
  }
 ],
 "metadata": {
  "kernelspec": {
   "display_name": "graphrag-sdk-ceBr3E7y-py3.12",
   "language": "python",
   "name": "python3"
  },
  "language_info": {
   "codemirror_mode": {
    "name": "ipython",
    "version": 3
   },
   "file_extension": ".py",
   "mimetype": "text/x-python",
   "name": "python",
   "nbconvert_exporter": "python",
   "pygments_lexer": "ipython3",
   "version": "3.12.3"
  }
 },
 "nbformat": 4,
 "nbformat_minor": 2
}
