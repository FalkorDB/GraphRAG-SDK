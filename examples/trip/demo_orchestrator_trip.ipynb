{
 "cells": [
  {
   "cell_type": "markdown",
   "metadata": {},
   "source": [
    "# Using GraphRAG-SDK to Create a Multi-Agent-Orchestrator RAG System based on Knowledge Graph from Structured Data\n",
    "\n",
    "GraphRAG-SDK provides a powerful tool, enhanced by LLM technology, for building a Multi-Agent-Orchestrator RAG System. This example demonstrates how to create a knowledge graph-based multi-agent system from structured data and how to use the orchestrator to manage the agents and perform question answering."
   ]
  },
  {
   "cell_type": "code",
   "execution_count": null,
   "metadata": {},
   "outputs": [],
   "source": [
    "!pip install graphrag_sdk"
   ]
  },
  {
   "cell_type": "code",
   "execution_count": 1,
   "metadata": {},
   "outputs": [
    {
     "data": {
      "text/plain": [
       "True"
      ]
     },
     "execution_count": 1,
     "metadata": {},
     "output_type": "execute_result"
    }
   ],
   "source": [
    "\n",
    "from json import loads\n",
    "from dotenv import load_dotenv\n",
    "from graphrag_sdk.orchestrator import Orchestrator\n",
    "from graphrag_sdk.agents.kg_agent import KGAgent\n",
    "from graphrag_sdk.models.openai import OpenAiGenerativeModel\n",
    "from graphrag_sdk import (\n",
    "    Ontology, Entity, Relation, Attribute, AttributeType, KnowledgeGraph, KnowledgeGraphModelConfig\n",
    ")\n",
    "\n",
    "# Load environment variables\n",
    "load_dotenv()\n",
    "\n",
    "# Configuration\n",
    "# OPENAI_API_KEY = \"sk-\"# OpenAI API key"
   ]
  },
  {
   "cell_type": "markdown",
   "metadata": {},
   "source": [
    "### Ontology - Predefined Ontology\n",
    "\n",
    "We will begin with an initial ontology for the agents, based on the knowledge that interests us.\n"
   ]
  },
  {
   "cell_type": "code",
   "execution_count": 3,
   "metadata": {},
   "outputs": [],
   "source": [
    "# Restaurants Ontology\n",
    "restaurants_ontology = Ontology()\n",
    "\n",
    "# Attractions Ontology\n",
    "attractions_ontology = Ontology()\n",
    "\n",
    "# Manually created Ontology by adding entities and relations\n",
    "restaurants_ontology.add_entity(\n",
    "    Entity(\n",
    "        label=\"Country\",\n",
    "        attributes=[\n",
    "            Attribute(\n",
    "                name=\"name\",\n",
    "                attr_type=AttributeType.STRING,\n",
    "                required=True,\n",
    "                unique=True,\n",
    "            ),\n",
    "        ],\n",
    "    )\n",
    ")\n",
    "restaurants_ontology.add_entity(\n",
    "    Entity(\n",
    "        label=\"City\",\n",
    "        attributes=[\n",
    "            Attribute(\n",
    "                name=\"name\",\n",
    "                attr_type=AttributeType.STRING,\n",
    "                required=True,\n",
    "                unique=True,\n",
    "            ),\n",
    "            Attribute(\n",
    "                name=\"weather\",\n",
    "                attr_type=AttributeType.STRING,\n",
    "                required=False,\n",
    "                unique=False,\n",
    "            ),\n",
    "            Attribute(\n",
    "                name=\"population\",\n",
    "                attr_type=AttributeType.NUMBER,\n",
    "                required=False,\n",
    "                unique=False,\n",
    "            ),\n",
    "        ],\n",
    "    )\n",
    ")\n",
    "restaurants_ontology.add_entity(\n",
    "    Entity(\n",
    "        label=\"Restaurant\",\n",
    "        attributes=[\n",
    "            Attribute(\n",
    "                name=\"name\",\n",
    "                attr_type=AttributeType.STRING,\n",
    "                required=True,\n",
    "                unique=True,\n",
    "            ),\n",
    "            Attribute(\n",
    "                name=\"description\",\n",
    "                attr_type=AttributeType.STRING,\n",
    "                required=False,\n",
    "                unique=False,\n",
    "            ),\n",
    "            Attribute(\n",
    "                name=\"rating\",\n",
    "                attr_type=AttributeType.NUMBER,\n",
    "                required=False,\n",
    "                unique=False,\n",
    "            ),\n",
    "            Attribute(\n",
    "                name=\"food_type\",\n",
    "                attr_type=AttributeType.STRING,\n",
    "                required=False,\n",
    "                unique=False,\n",
    "            ),\n",
    "        ],\n",
    "    )\n",
    ")\n",
    "restaurants_ontology.add_relation(\n",
    "    Relation(\n",
    "        label=\"IN_COUNTRY\",\n",
    "        source=\"City\",\n",
    "        target=\"Country\",\n",
    "    )\n",
    ")\n",
    "restaurants_ontology.add_relation(\n",
    "    Relation(\n",
    "        label=\"IN_CITY\",\n",
    "        source=\"Restaurant\",\n",
    "        target=\"City\",\n",
    "    )\n",
    ")\n",
    "\n",
    "attractions_ontology.add_entity(\n",
    "    Entity(\n",
    "        label=\"Country\",\n",
    "        attributes=[\n",
    "            Attribute(\n",
    "                name=\"name\",\n",
    "                attr_type=AttributeType.STRING,\n",
    "                required=True,\n",
    "                unique=True,\n",
    "            ),\n",
    "        ],\n",
    "    )\n",
    ")\n",
    "attractions_ontology.add_entity(\n",
    "    Entity(\n",
    "        label=\"City\",\n",
    "        attributes=[\n",
    "            Attribute(\n",
    "                name=\"name\",\n",
    "                attr_type=AttributeType.STRING,\n",
    "                required=True,\n",
    "                unique=True,\n",
    "            ),\n",
    "            Attribute(\n",
    "                name=\"weather\",\n",
    "                attr_type=AttributeType.STRING,\n",
    "                required=False,\n",
    "                unique=False,\n",
    "            ),\n",
    "            Attribute(\n",
    "                name=\"population\",\n",
    "                attr_type=AttributeType.NUMBER,\n",
    "                required=False,\n",
    "                unique=False,\n",
    "            ),\n",
    "        ],\n",
    "    )\n",
    ")\n",
    "attractions_ontology.add_entity(\n",
    "    Entity(\n",
    "        label=\"Attraction\",\n",
    "        attributes=[\n",
    "            Attribute(\n",
    "                name=\"name\",\n",
    "                attr_type=AttributeType.STRING,\n",
    "                required=True,\n",
    "                unique=True,\n",
    "            ),\n",
    "            Attribute(\n",
    "                name=\"description\",\n",
    "                attr_type=AttributeType.STRING,\n",
    "                required=False,\n",
    "                unique=False,\n",
    "            ),\n",
    "            Attribute(\n",
    "                name=\"type\",\n",
    "                attr_type=AttributeType.STRING,\n",
    "                required=False,\n",
    "                unique=False,\n",
    "            ),\n",
    "        ],\n",
    "    )\n",
    ")\n",
    "attractions_ontology.add_relation(\n",
    "    Relation(\n",
    "        label=\"IN_COUNTRY\",\n",
    "        source=\"City\",\n",
    "        target=\"Country\",\n",
    "    )\n",
    ")\n",
    "attractions_ontology.add_relation(\n",
    "    Relation(\n",
    "        label=\"IN_CITY\",\n",
    "        source=\"Attraction\",\n",
    "        target=\"City\",\n",
    "    )\n",
    ")"
   ]
  },
  {
   "cell_type": "markdown",
   "metadata": {},
   "source": [
    "### KG from Structure Data\n",
    "\n",
    "Creating the KG from the data that will be used by the agents"
   ]
  },
  {
   "cell_type": "code",
   "execution_count": 4,
   "metadata": {},
   "outputs": [],
   "source": [
    "# Define the model\n",
    "model = OpenAiGenerativeModel(\"gpt-4o\")\n",
    "\n",
    "# Create the KG from the predefined ontology.\n",
    "# Restaurants KG\n",
    "restaurants_kg = KnowledgeGraph(\n",
    "    name=\"restaurants\",\n",
    "    ontology=restaurants_ontology,\n",
    "    model_config=KnowledgeGraphModelConfig.with_model(model),\n",
    ")\n",
    "\n",
    "# Attractions KG\n",
    "attractions_kg = KnowledgeGraph(\n",
    "    name=\"attractions\",\n",
    "    ontology=attractions_ontology,\n",
    "    model_config=KnowledgeGraphModelConfig.with_model(model),\n",
    ")\n",
    "\n",
    "# Add nodes and edges to the KGs from the data\n",
    "with open(\"examples/trip/data/cities.json\") as f:\n",
    "    cities = loads(f.read())\n",
    "with open(\"examples/trip/data/restaurants.json\") as f:\n",
    "    restaurants = loads(f.read())\n",
    "with open(\"examples/trip/data/attractions.json\") as f:\n",
    "    attractions = loads(f.read())\n",
    "\n",
    "for city in cities:\n",
    "    restaurants_kg.add_node(\n",
    "        \"City\",\n",
    "        {\n",
    "            \"name\": city[\"name\"],\n",
    "            \"weather\": city[\"weather\"],\n",
    "            \"population\": city[\"population\"],\n",
    "        },\n",
    "    )\n",
    "    restaurants_kg.add_node(\"Country\", {\"name\": city[\"country\"]})\n",
    "    restaurants_kg.add_edge(\n",
    "        \"IN_COUNTRY\",\n",
    "        \"City\",\n",
    "        \"Country\",\n",
    "        {\"name\": city[\"name\"]},\n",
    "        {\"name\": city[\"country\"]},\n",
    "    )\n",
    "\n",
    "    attractions_kg.add_node(\n",
    "        \"City\",\n",
    "        {\n",
    "            \"name\": city[\"name\"],\n",
    "            \"weather\": city[\"weather\"],\n",
    "            \"population\": city[\"population\"],\n",
    "        },\n",
    "    )\n",
    "    attractions_kg.add_node(\"Country\", {\"name\": city[\"country\"]})\n",
    "    attractions_kg.add_edge(\n",
    "        \"IN_COUNTRY\",\n",
    "        \"City\",\n",
    "        \"Country\",\n",
    "        {\"name\": city[\"name\"]},\n",
    "        {\"name\": city[\"country\"]},\n",
    "    )\n",
    "\n",
    "for restaurant in restaurants:\n",
    "    restaurants_kg.add_node(\n",
    "        \"Restaurant\",\n",
    "        {\n",
    "            \"name\": restaurant[\"name\"],\n",
    "            \"description\": restaurant[\"description\"],\n",
    "            \"rating\": restaurant[\"rating\"],\n",
    "            \"food_type\": restaurant[\"food_type\"],\n",
    "        },\n",
    "    )\n",
    "    restaurants_kg.add_edge(\n",
    "        \"IN_CITY\",\n",
    "        \"Restaurant\",\n",
    "        \"City\",\n",
    "        {\"name\": restaurant[\"name\"]},\n",
    "        {\"name\": restaurant[\"city\"]},\n",
    "    )\n",
    "\n",
    "for attraction in attractions:\n",
    "    attractions_kg.add_node(\n",
    "        \"Attraction\",\n",
    "        {\n",
    "            \"name\": attraction[\"name\"],\n",
    "            \"description\": attraction[\"description\"],\n",
    "            \"type\": attraction[\"type\"],\n",
    "        },\n",
    "    )\n",
    "    attractions_kg.add_edge(\n",
    "        \"IN_CITY\",\n",
    "        \"Attraction\",\n",
    "        \"City\",\n",
    "        {\"name\": attraction[\"name\"]},\n",
    "        {\"name\": attraction[\"city\"]},\n",
    "    )"
   ]
  },
  {
   "cell_type": "markdown",
   "metadata": {},
   "source": [
    "### Agents\n",
    "\n",
    "Creating the Agents based on the KG."
   ]
  },
  {
   "cell_type": "code",
   "execution_count": 5,
   "metadata": {},
   "outputs": [],
   "source": [
    "# The following agent is specialized in finding restaurants.\n",
    "restaurants_agent = KGAgent(\n",
    "    agent_id=\"restaurants_agent\",\n",
    "    kg=restaurants_kg,\n",
    "    introduction=\"I'm a restaurant agent, specialized in finding the best restaurants for you.\",\n",
    ")\n",
    "\n",
    "# The following agent is specialized in finding tourist attractions.\n",
    "attractions_agent = KGAgent(\n",
    "    agent_id=\"attractions_agent\",\n",
    "    kg=attractions_kg,\n",
    "    introduction=\"I'm an attractions agent, specialized in finding the best attractions for you.\",\n",
    ")"
   ]
  },
  {
   "cell_type": "markdown",
   "metadata": {},
   "source": [
    "### Orchestrator - Multi-Agent System\n",
    "\n",
    "The orchestrator manages the usage of agents and handles questioning. Each agent is registered with the orchestrator, which determines how to engage the agents to provide the best possible answer when a question is asked."
   ]
  },
  {
   "cell_type": "code",
   "execution_count": 6,
   "metadata": {},
   "outputs": [],
   "source": [
    "\n",
    "# Initialize the orchestrator and register agents\n",
    "orchestrator = Orchestrator(\n",
    "    model,\n",
    "    backstory=\"You are a trip planner, and you want to provide the best possible itinerary for your clients.\",\n",
    ")\n",
    "orchestrator.register_agent(restaurants_agent)\n",
    "orchestrator.register_agent(attractions_agent)\n",
    "\n",
    "# Query the orchestrator\n",
    "runner = orchestrator.ask(\"Create a two-day itinerary for a trip to Rome. Please don't ask me any questions; just provide the best itinerary you can.\")"
   ]
  },
  {
   "cell_type": "code",
   "execution_count": 7,
   "metadata": {},
   "outputs": [
    {
     "name": "stdout",
     "output_type": "stream",
     "text": [
      "Certainly! Here is a well-rounded two-day itinerary for your trip to Rome, designed to help you explore the city's rich history, stunning architecture, and delightful culinary offerings.\n",
      "\n",
      "**Day 1: Historical Treasures and Local Cuisine**\n",
      "- **Morning:**\n",
      "  - Start your day at the **Colosseum**, a must-see landmark symbolizing Rome's imperial power and infamous gladiatorial contests. Take a guided tour to fully appreciate the historical significance of this ancient amphitheater.\n",
      "- **Afternoon:**\n",
      "  - Head over to the **Basilica di Santa Maria Maggiore**, one of Rome's major basilicas, renowned for its remarkable architecture and long-standing history. Explore its beautiful mosaics and extensive collection of Roman artifacts.\n",
      "- **Evening:**\n",
      "  - For dinner, visit **Trattoria da Enzo**, a cozy and welcoming trattoria celebrated for its traditional Roman dishes. With a 4.5 rating, it offers a perfect atmosphere to unwind and savor classic Italian flavors.\n",
      "\n",
      "**Day 2: Art and Gourmet Experiences**\n",
      "- **Morning:**\n",
      "  - Begin at the **Vatican Museums**, home to an outstanding collection of art, including works by Renaissance greats. Be sure to visit the Sistine Chapel, featuring Michelangelo's iconic ceiling.\n",
      "- **Afternoon:**\n",
      "  - Make your way to the **Trevi Fountain**, one of Rome's most beautiful and renowned fountains. While there, partake in the traditional coin tossing to ensure your return to this captivating city.\n",
      "- **Evening:**\n",
      "  - Conclude your Roman adventure with an exquisite dining experience at **Il Pagliaccio**, a Michelin-starred restaurant praised for its contemporary Italian cuisine. With a 4.8 rating, it promises a memorable culinary journey, blending tradition with modern creativity.\n",
      "\n",
      "This itinerary is designed to offer a balance of Rome's historical depths, breathtaking sites, and exceptional gastronomy, ensuring a diverse and enriching visit to this timeless city. Enjoy your trip!\n"
     ]
    }
   ],
   "source": [
    "print(runner.output)"
   ]
  },
  {
   "cell_type": "code",
   "execution_count": 8,
   "metadata": {},
   "outputs": [
    {
     "name": "stdout",
     "output_type": "stream",
     "text": [
      "Certainly! Based on the detailed itinerary I previously provided for your two-day trip to Rome, the restaurant mentioned for dinner on the second day is **Il Pagliaccio**. It is a Michelin-starred restaurant praised for its contemporary Italian cuisine, and it promises a memorable dining experience. Enjoy your culinary adventure at this elegant establishment!\n"
     ]
    }
   ],
   "source": [
    "runner = orchestrator.ask(\"Please tell me only the name of the restaurant for dinner at the second day that you mention in the itinerary of the trip\")\n",
    "print(runner.output)"
   ]
  },
  {
   "cell_type": "code",
   "execution_count": 9,
   "metadata": {},
   "outputs": [
    {
     "name": "stdout",
     "output_type": "stream",
     "text": [
      "I appreciate your interest in customizing the itinerary for your trip to Rome. However, upon querying the restaurant agent for an alternative dinner option on the second day, it appears that there are currently no alternative restaurant recommendations available for that part of your itinerary.\n",
      "\n",
      "Nonetheless, the current itinerary recommends **Il Pagliaccio**, a renowned Michelin-starred restaurant known for its exceptional contemporary Italian cuisine. It remains an exquisite choice for a memorable dining experience during your visit.\n",
      "\n",
      "If you would like to explore more options, I encourage you to check local guides or recent reviews during your stay, as new dining venues and experiences frequently emerge in dynamic cities like Rome. Thank you for understanding, and I hope you have a fantastic trip filled with delightful experiences.\n"
     ]
    }
   ],
   "source": [
    "runner = orchestrator.ask(\"Can you change this restaurant to another one and give me the updated itinerary?\")\n",
    "print(runner.output)"
   ]
  },
  {
   "cell_type": "code",
   "execution_count": 10,
   "metadata": {},
   "outputs": [
    {
     "name": "stdout",
     "output_type": "stream",
     "text": [
      "Certainly! From the two-day itinerary I provided for your trip to Rome, the restaurant mentioned for dinner on the first day is **Trattoria da Enzo**. This cozy trattoria is celebrated for its traditional Roman dishes and welcoming atmosphere, making it a wonderful choice for unwinding and enjoying classic Italian flavors. Enjoy your dining experience at this charming spot!\n"
     ]
    }
   ],
   "source": [
    "runner = orchestrator.ask(\"Please tell me only the name of the restaurant for dinner at the first day that you mention in the itinerary of the trip\")\n",
    "print(runner.output)"
   ]
  }
 ],
 "metadata": {
  "kernelspec": {
   "display_name": "Poetry Env2",
   "language": "python",
   "name": "my-poetry-env"
  },
  "language_info": {
   "codemirror_mode": {
    "name": "ipython",
    "version": 3
   },
   "file_extension": ".py",
   "mimetype": "text/x-python",
   "name": "python",
   "nbconvert_exporter": "python",
   "pygments_lexer": "ipython3",
   "version": "3.11.10"
  }
 },
 "nbformat": 4,
 "nbformat_minor": 4
}
