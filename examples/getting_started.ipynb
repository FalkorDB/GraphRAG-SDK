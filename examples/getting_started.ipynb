{
  "nbformat": 4,
  "nbformat_minor": 0,
  "metadata": {
    "colab": {
      "provenance": []
    },
    "kernelspec": {
      "name": "python3",
      "display_name": "Python 3"
    },
    "language_info": {
      "name": "python"
    }
  },
  "cells": [
    {
      "attachments": {},
      "cell_type": "markdown",
      "id": "82f90261",
      "metadata": {},
      "source": [
        "# Getting Started with GraphRAG-SDK\n",
        "\n",
        "This notebook provides an introduction to using FalkorDB's GraphRAG software development kit.",
        "It guides users through the setup process, dataset loading, and running basic examples.",
        "Ideal for new users, this notebook helps familiarize with core functionalities and workflows",
        "in GraphRAG for developing graph-based applications and analyses."
      ]
    },
    {
      "cell_type": "markdown",
      "source": [
        "Install dependencies"
      ],
      "metadata": {
        "id": "Hry9wXv7Cret"
      }
    },
    {
      "cell_type": "code",
      "source": [
        "! python --version"
      ],
      "metadata": {
        "colab": {
          "base_uri": "https://localhost:8080/"
        },
        "id": "C8JKk7ghLH08",
        "outputId": "042e13c8-613f-4998-8795-eec11dec1b26"
      },
      "execution_count": null,
      "outputs": [
        {
          "output_type": "stream",
          "name": "stdout",
          "text": [
            "Python 3.10.12\n"
          ]
        }
      ]
    },
    {
      "cell_type": "code",
      "execution_count": null,
      "metadata": {
        "colab": {
          "base_uri": "https://localhost:8080/"
        },
        "id": "EiVD4zpi8BIx",
        "outputId": "ffe6a228-7955-42bd-96be-431acbbda374",
        "collapsed": true
      },
      "outputs": [
        {
          "output_type": "stream",
          "name": "stdout",
          "text": [
            "Requirement already satisfied: FalkorDB in /usr/local/lib/python3.10/dist-packages (1.0.5)\n",
            "Requirement already satisfied: redis<6.0.0,>=5.0.1 in /usr/local/lib/python3.10/dist-packages (from FalkorDB) (5.0.7)\n",
            "Requirement already satisfied: async-timeout>=4.0.3 in /usr/local/lib/python3.10/dist-packages (from redis<6.0.0,>=5.0.1->FalkorDB) (4.0.3)\n",
            "Collecting graphrag_sdk==0.1.3b0\n",
            "  Downloading graphrag_sdk-0.1.3b0.tar.gz (20 kB)\n",
            "  Installing build dependencies ... \u001b[?25l\u001b[?25hdone\n",
            "  Getting requirements to build wheel ... \u001b[?25l\u001b[?25hdone\n",
            "  Preparing metadata (pyproject.toml) ... \u001b[?25l\u001b[?25hdone\n",
            "Collecting bs4<0.0.3,>=0.0.2 (from graphrag_sdk==0.1.3b0)\n",
            "  Downloading bs4-0.0.2-py2.py3-none-any.whl (1.2 kB)\n",
            "Requirement already satisfied: falkordb<2.0.0,>=1.0.4 in /usr/local/lib/python3.10/dist-packages (from graphrag_sdk==0.1.3b0) (1.0.5)\n",
            "Collecting openai<2.0.0,>=1.30.3 (from graphrag_sdk==0.1.3b0)\n",
            "  Downloading openai-1.35.7-py3-none-any.whl (327 kB)\n",
            "\u001b[2K     \u001b[90m━━━━━━━━━━━━━━━━━━━━━━━━━━━━━━━━━━━━━━━━\u001b[0m \u001b[32m327.5/327.5 kB\u001b[0m \u001b[31m3.0 MB/s\u001b[0m eta \u001b[36m0:00:00\u001b[0m\n",
            "\u001b[?25hRequirement already satisfied: sqlalchemy<3.0.0,>=2.0.30 in /usr/local/lib/python3.10/dist-packages (from graphrag_sdk==0.1.3b0) (2.0.31)\n",
            "Requirement already satisfied: typing-extensions<5.0.0,>=4.12.1 in /usr/local/lib/python3.10/dist-packages (from graphrag_sdk==0.1.3b0) (4.12.2)\n",
            "Requirement already satisfied: beautifulsoup4 in /usr/local/lib/python3.10/dist-packages (from bs4<0.0.3,>=0.0.2->graphrag_sdk==0.1.3b0) (4.12.3)\n",
            "Requirement already satisfied: redis<6.0.0,>=5.0.1 in /usr/local/lib/python3.10/dist-packages (from falkordb<2.0.0,>=1.0.4->graphrag_sdk==0.1.3b0) (5.0.7)\n",
            "Requirement already satisfied: anyio<5,>=3.5.0 in /usr/local/lib/python3.10/dist-packages (from openai<2.0.0,>=1.30.3->graphrag_sdk==0.1.3b0) (3.7.1)\n",
            "Requirement already satisfied: distro<2,>=1.7.0 in /usr/lib/python3/dist-packages (from openai<2.0.0,>=1.30.3->graphrag_sdk==0.1.3b0) (1.7.0)\n",
            "Collecting httpx<1,>=0.23.0 (from openai<2.0.0,>=1.30.3->graphrag_sdk==0.1.3b0)\n",
            "  Downloading httpx-0.27.0-py3-none-any.whl (75 kB)\n",
            "\u001b[2K     \u001b[90m━━━━━━━━━━━━━━━━━━━━━━━━━━━━━━━━━━━━━━━━\u001b[0m \u001b[32m75.6/75.6 kB\u001b[0m \u001b[31m8.1 MB/s\u001b[0m eta \u001b[36m0:00:00\u001b[0m\n",
            "\u001b[?25hRequirement already satisfied: pydantic<3,>=1.9.0 in /usr/local/lib/python3.10/dist-packages (from openai<2.0.0,>=1.30.3->graphrag_sdk==0.1.3b0) (2.7.4)\n",
            "Requirement already satisfied: sniffio in /usr/local/lib/python3.10/dist-packages (from openai<2.0.0,>=1.30.3->graphrag_sdk==0.1.3b0) (1.3.1)\n",
            "Requirement already satisfied: tqdm>4 in /usr/local/lib/python3.10/dist-packages (from openai<2.0.0,>=1.30.3->graphrag_sdk==0.1.3b0) (4.66.4)\n",
            "Requirement already satisfied: greenlet!=0.4.17 in /usr/local/lib/python3.10/dist-packages (from sqlalchemy<3.0.0,>=2.0.30->graphrag_sdk==0.1.3b0) (3.0.3)\n",
            "Requirement already satisfied: idna>=2.8 in /usr/local/lib/python3.10/dist-packages (from anyio<5,>=3.5.0->openai<2.0.0,>=1.30.3->graphrag_sdk==0.1.3b0) (3.7)\n",
            "Requirement already satisfied: exceptiongroup in /usr/local/lib/python3.10/dist-packages (from anyio<5,>=3.5.0->openai<2.0.0,>=1.30.3->graphrag_sdk==0.1.3b0) (1.2.1)\n",
            "Requirement already satisfied: certifi in /usr/local/lib/python3.10/dist-packages (from httpx<1,>=0.23.0->openai<2.0.0,>=1.30.3->graphrag_sdk==0.1.3b0) (2024.6.2)\n",
            "Collecting httpcore==1.* (from httpx<1,>=0.23.0->openai<2.0.0,>=1.30.3->graphrag_sdk==0.1.3b0)\n",
            "  Downloading httpcore-1.0.5-py3-none-any.whl (77 kB)\n",
            "\u001b[2K     \u001b[90m━━━━━━━━━━━━━━━━━━━━━━━━━━━━━━━━━━━━━━━━\u001b[0m \u001b[32m77.9/77.9 kB\u001b[0m \u001b[31m10.3 MB/s\u001b[0m eta \u001b[36m0:00:00\u001b[0m\n",
            "\u001b[?25hCollecting h11<0.15,>=0.13 (from httpcore==1.*->httpx<1,>=0.23.0->openai<2.0.0,>=1.30.3->graphrag_sdk==0.1.3b0)\n",
            "  Downloading h11-0.14.0-py3-none-any.whl (58 kB)\n",
            "\u001b[2K     \u001b[90m━━━━━━━━━━━━━━━━━━━━━━━━━━━━━━━━━━━━━━━━\u001b[0m \u001b[32m58.3/58.3 kB\u001b[0m \u001b[31m7.8 MB/s\u001b[0m eta \u001b[36m0:00:00\u001b[0m\n",
            "\u001b[?25hRequirement already satisfied: annotated-types>=0.4.0 in /usr/local/lib/python3.10/dist-packages (from pydantic<3,>=1.9.0->openai<2.0.0,>=1.30.3->graphrag_sdk==0.1.3b0) (0.7.0)\n",
            "Requirement already satisfied: pydantic-core==2.18.4 in /usr/local/lib/python3.10/dist-packages (from pydantic<3,>=1.9.0->openai<2.0.0,>=1.30.3->graphrag_sdk==0.1.3b0) (2.18.4)\n",
            "Requirement already satisfied: async-timeout>=4.0.3 in /usr/local/lib/python3.10/dist-packages (from redis<6.0.0,>=5.0.1->falkordb<2.0.0,>=1.0.4->graphrag_sdk==0.1.3b0) (4.0.3)\n",
            "Requirement already satisfied: soupsieve>1.2 in /usr/local/lib/python3.10/dist-packages (from beautifulsoup4->bs4<0.0.3,>=0.0.2->graphrag_sdk==0.1.3b0) (2.5)\n",
            "Building wheels for collected packages: graphrag_sdk\n",
            "  Building wheel for graphrag_sdk (pyproject.toml) ... \u001b[?25l\u001b[?25hdone\n",
            "  Created wheel for graphrag_sdk: filename=graphrag_sdk-0.1.3b0-py3-none-any.whl size=26462 sha256=69ae6d4408a40b6cc4119e670a7a82af70225c0f9d3c412426aad4c798b40732\n",
            "  Stored in directory: /root/.cache/pip/wheels/b5/e7/44/c5997105d448c1b73d27b9b2ae440afafc1617e495f9c7fb0e\n",
            "Successfully built graphrag_sdk\n",
            "Installing collected packages: h11, httpcore, bs4, httpx, openai, graphrag_sdk\n",
            "Successfully installed bs4-0.0.2 graphrag_sdk-0.1.3b0 h11-0.14.0 httpcore-1.0.5 httpx-0.27.0 openai-1.35.7\n"
          ]
        }
      ],
      "source": [
        "# prompt: pip install FalkorDB & GraphRAG-SDK\n",
        "\n",
        "!pip install FalkorDB\n",
        "!pip install graphrag_sdk==0.1.3b0"
      ]
    },
    {
      "cell_type": "markdown",
      "source": [
        "Setup dependencies:\n",
        "\n",
        "1. OpenAI KEY\n",
        "\n",
        "2. FalkorDB connection details\n",
        "\n",
        "Create a FalkorDB instance at: http://cloud.falkordb.com/\n",
        "\n",
        "And update the following fields accordingly: host, port, username, password"
      ],
      "metadata": {
        "id": "cHTwoEtWcwgX"
      }
    },
    {
      "cell_type": "code",
      "source": [
        "# set OpenAI key\n",
        "import os\n",
        "os.environ[\"OPENAI_API_KEY\"] = \"YOUR-OPENAI-KEY\"\n",
        "\n",
        "# Define connection details for FalkorDB\n",
        "host = \"FALKORDB_HOST\"\n",
        "port = \"FALKORDB_PORT\"\n",
        "username = 'FALKORDB_USERNAME'\n",
        "password = 'FALKORDB_PASSWORD'"
      ],
      "metadata": {
        "id": "YmAoBzUL_kfA"
      },
      "execution_count": null,
      "outputs": []
    },
    {
      "cell_type": "markdown",
      "source": [
        "Auto detect knowledge graph ontology"
      ],
      "metadata": {
        "id": "Ebb2RrhOBUii"
      }
    },
    {
      "cell_type": "code",
      "source": [
        "from graphrag_sdk import Source\n",
        "from graphrag_sdk.schema import Schema\n",
        "\n",
        "# Auto detect schema based on a single URL\n",
        "source = Source(\"https://www.rottentomatoes.com/m/matrix\")\n",
        "s = Schema.auto_detect([source])\n",
        "\n",
        "# Print schema\n",
        "print(\"Auto detected schema:\")\n",
        "print(s.to_JSON())"
      ],
      "metadata": {
        "colab": {
          "base_uri": "https://localhost:8080/"
        },
        "id": "b0Yo-wqMBEhl",
        "outputId": "38a2554c-4af5-4926-c5ee-758b7224fa62",
        "collapsed": true
      },
      "execution_count": null,
      "outputs": [
        {
          "output_type": "stream",
          "name": "stdout",
          "text": [
            "Auto detected schema:\n",
            "{\n",
            "    \"entities\": [\n",
            "        {\n",
            "            \"name\": \"Reviews\",\n",
            "            \"attributes\": [\n",
            "                {\n",
            "                    \"name\": \"review_date\",\n",
            "                    \"type\": \"str\",\n",
            "                    \"desc\": \"Reviews's review_date\",\n",
            "                    \"unique\": true,\n",
            "                    \"mandatory\": true\n",
            "                },\n",
            "                {\n",
            "                    \"name\": \"movie_title\",\n",
            "                    \"type\": \"str\",\n",
            "                    \"desc\": \"Reviews's movie_title\",\n",
            "                    \"unique\": false,\n",
            "                    \"mandatory\": false\n",
            "                },\n",
            "                {\n",
            "                    \"name\": \"reviewer\",\n",
            "                    \"type\": \"str\",\n",
            "                    \"desc\": \"Reviews's reviewer\",\n",
            "                    \"unique\": false,\n",
            "                    \"mandatory\": false\n",
            "                },\n",
            "                {\n",
            "                    \"name\": \"rating\",\n",
            "                    \"type\": \"str\",\n",
            "                    \"desc\": \"Reviews's rating\",\n",
            "                    \"unique\": false,\n",
            "                    \"mandatory\": false\n",
            "                }\n",
            "            ]\n",
            "        },\n",
            "        {\n",
            "            \"name\": \"Cast\",\n",
            "            \"attributes\": [\n",
            "                {\n",
            "                    \"name\": \"movie_title\",\n",
            "                    \"type\": \"str\",\n",
            "                    \"desc\": \"Cast's movie_title\",\n",
            "                    \"unique\": false,\n",
            "                    \"mandatory\": false\n",
            "                },\n",
            "                {\n",
            "                    \"name\": \"character_name\",\n",
            "                    \"type\": \"str\",\n",
            "                    \"desc\": \"Cast's character_name\",\n",
            "                    \"unique\": true,\n",
            "                    \"mandatory\": true\n",
            "                },\n",
            "                {\n",
            "                    \"name\": \"actor_name\",\n",
            "                    \"type\": \"str\",\n",
            "                    \"desc\": \"Cast's actor_name\",\n",
            "                    \"unique\": false,\n",
            "                    \"mandatory\": false\n",
            "                }\n",
            "            ]\n",
            "        },\n",
            "        {\n",
            "            \"name\": \"Ratings\",\n",
            "            \"attributes\": [\n",
            "                {\n",
            "                    \"name\": \"title\",\n",
            "                    \"type\": \"str\",\n",
            "                    \"desc\": \"Ratings's title\",\n",
            "                    \"unique\": true,\n",
            "                    \"mandatory\": true\n",
            "                },\n",
            "                {\n",
            "                    \"name\": \"tomatometer_rating\",\n",
            "                    \"type\": \"str\",\n",
            "                    \"desc\": \"Ratings's tomatometer_rating\",\n",
            "                    \"unique\": false,\n",
            "                    \"mandatory\": false\n",
            "                },\n",
            "                {\n",
            "                    \"name\": \"audience_score\",\n",
            "                    \"type\": \"str\",\n",
            "                    \"desc\": \"Ratings's audience_score\",\n",
            "                    \"unique\": false,\n",
            "                    \"mandatory\": false\n",
            "                },\n",
            "                {\n",
            "                    \"name\": \"num_reviews\",\n",
            "                    \"type\": \"str\",\n",
            "                    \"desc\": \"Ratings's num_reviews\",\n",
            "                    \"unique\": false,\n",
            "                    \"mandatory\": false\n",
            "                }\n",
            "            ]\n",
            "        },\n",
            "        {\n",
            "            \"name\": \"Movies\",\n",
            "            \"attributes\": [\n",
            "                {\n",
            "                    \"name\": \"title\",\n",
            "                    \"type\": \"str\",\n",
            "                    \"desc\": \"Movies's title\",\n",
            "                    \"unique\": true,\n",
            "                    \"mandatory\": true\n",
            "                },\n",
            "                {\n",
            "                    \"name\": \"genre\",\n",
            "                    \"type\": \"str\",\n",
            "                    \"desc\": \"Movies's genre\",\n",
            "                    \"unique\": false,\n",
            "                    \"mandatory\": false\n",
            "                },\n",
            "                {\n",
            "                    \"name\": \"release_date\",\n",
            "                    \"type\": \"str\",\n",
            "                    \"desc\": \"Movies's release_date\",\n",
            "                    \"unique\": false,\n",
            "                    \"mandatory\": false\n",
            "                },\n",
            "                {\n",
            "                    \"name\": \"duration\",\n",
            "                    \"type\": \"str\",\n",
            "                    \"desc\": \"Movies's duration\",\n",
            "                    \"unique\": false,\n",
            "                    \"mandatory\": false\n",
            "                }\n",
            "            ]\n",
            "        },\n",
            "        {\n",
            "            \"name\": \"Directors\",\n",
            "            \"attributes\": [\n",
            "                {\n",
            "                    \"name\": \"director_name\",\n",
            "                    \"type\": \"str\",\n",
            "                    \"desc\": \"Directors's director_name\",\n",
            "                    \"unique\": true,\n",
            "                    \"mandatory\": true\n",
            "                },\n",
            "                {\n",
            "                    \"name\": \"movie_title\",\n",
            "                    \"type\": \"str\",\n",
            "                    \"desc\": \"Directors's movie_title\",\n",
            "                    \"unique\": false,\n",
            "                    \"mandatory\": false\n",
            "                }\n",
            "            ]\n",
            "        }\n",
            "    ],\n",
            "    \"relations\": []\n",
            "}\n"
          ]
        }
      ]
    },
    {
      "cell_type": "markdown",
      "source": [
        "Manually define knowledge graph ontology"
      ],
      "metadata": {
        "id": "ovQHYWzCB_rC"
      }
    },
    {
      "cell_type": "code",
      "source": [
        "# Manually define schema\n",
        "s = Schema()\n",
        "\n",
        "# Entities:\n",
        "# 1. Actor\n",
        "# 2. Director\n",
        "# 3. Movie\n",
        "\n",
        "actor = s.add_entity('Actor')\n",
        "actor.add_attribute('Name', str, unique=True, mandatory=True)\n",
        "\n",
        "director = s.add_entity('Director')\n",
        "director.add_attribute('Name', str, unique=True, mandatory=True)\n",
        "\n",
        "movie = s.add_entity('Movie')\n",
        "movie.add_attribute('Title', str, unique=True, mandatory=True)\n",
        "movie.add_attribute('ReleaseYear', int)\n",
        "movie.add_attribute('Rating', int)\n",
        "\n",
        "# Relations:\n",
        "# 1. (Actor)-[ACTED]->(Movie)\n",
        "# 2. (Director)-[DIRECTED]->(Movie)\n",
        "\n",
        "s.add_relation(\"ACTED\", actor, movie)\n",
        "s.add_relation(\"DIRECTED\", director, movie)\n",
        "\n",
        "# Print schema\n",
        "print(\"Manually defined schema:\")\n",
        "print(s.to_JSON())"
      ],
      "metadata": {
        "colab": {
          "base_uri": "https://localhost:8080/"
        },
        "id": "dDY7hReqCDpZ",
        "outputId": "72376333-723d-49ea-8f56-fe266b1d2253",
        "collapsed": true
      },
      "execution_count": null,
      "outputs": [
        {
          "output_type": "stream",
          "name": "stdout",
          "text": [
            "Manually defined schema:\n",
            "{\n",
            "    \"entities\": [\n",
            "        {\n",
            "            \"name\": \"Movie\",\n",
            "            \"attributes\": [\n",
            "                {\n",
            "                    \"name\": \"ReleaseYear\",\n",
            "                    \"type\": \"int\",\n",
            "                    \"desc\": \"Movie's ReleaseYear\",\n",
            "                    \"unique\": false,\n",
            "                    \"mandatory\": false\n",
            "                },\n",
            "                {\n",
            "                    \"name\": \"Title\",\n",
            "                    \"type\": \"str\",\n",
            "                    \"desc\": \"Movie's Title\",\n",
            "                    \"unique\": true,\n",
            "                    \"mandatory\": true\n",
            "                },\n",
            "                {\n",
            "                    \"name\": \"Rating\",\n",
            "                    \"type\": \"int\",\n",
            "                    \"desc\": \"Movie's Rating\",\n",
            "                    \"unique\": false,\n",
            "                    \"mandatory\": false\n",
            "                }\n",
            "            ]\n",
            "        },\n",
            "        {\n",
            "            \"name\": \"Actor\",\n",
            "            \"attributes\": [\n",
            "                {\n",
            "                    \"name\": \"Name\",\n",
            "                    \"type\": \"str\",\n",
            "                    \"desc\": \"Actor's Name\",\n",
            "                    \"unique\": true,\n",
            "                    \"mandatory\": true\n",
            "                }\n",
            "            ]\n",
            "        },\n",
            "        {\n",
            "            \"name\": \"Director\",\n",
            "            \"attributes\": [\n",
            "                {\n",
            "                    \"name\": \"Name\",\n",
            "                    \"type\": \"str\",\n",
            "                    \"desc\": \"Director's Name\",\n",
            "                    \"unique\": true,\n",
            "                    \"mandatory\": true\n",
            "                }\n",
            "            ]\n",
            "        }\n",
            "    ],\n",
            "    \"relations\": [\n",
            "        {\n",
            "            \"name\": \"ACTED\",\n",
            "            \"src\": \"Actor\",\n",
            "            \"dest\": \"Movie\"\n",
            "        },\n",
            "        {\n",
            "            \"name\": \"DIRECTED\",\n",
            "            \"src\": \"Director\",\n",
            "            \"dest\": \"Movie\"\n",
            "        }\n",
            "    ]\n",
            "}\n"
          ]
        }
      ]
    },
    {
      "cell_type": "markdown",
      "source": [
        "Construct knowledge graph\n",
        "From a number of sources:\n",
        "1. https://www.rottentomatoes.com/m/matrix\n",
        "2. https://www.rottentomatoes.com/m/matrix_reloaded\n",
        "3. https://www.rottentomatoes.com/m/the_matrix_resurrections"
      ],
      "metadata": {
        "id": "biEmU00dYcov"
      }
    },
    {
      "cell_type": "code",
      "source": [
        "from graphrag_sdk import KnowledgeGraph\n",
        "# Create Knowledge Graph\n",
        "g = KnowledgeGraph(\"rottentomatoes\", host=host, port=port, username=username,\n",
        "                   password=password, schema=s, model=\"gpt-3.5-turbo-0125\")\n",
        "\n",
        "# Ingest\n",
        "# Define sources from which knowledge will be created\n",
        "sources = [\n",
        "    Source(\"https://www.rottentomatoes.com/m/matrix\"),\n",
        "    Source(\"https://www.rottentomatoes.com/m/matrix_reloaded\"),\n",
        "    Source(\"https://www.rottentomatoes.com/m/the_matrix_resurrections\")\n",
        "]\n",
        "\n",
        "g.process_sources(sources)"
      ],
      "metadata": {
        "id": "lIZB4-pUYfD6"
      },
      "execution_count": null,
      "outputs": []
    },
    {
      "cell_type": "markdown",
      "source": [
        "Predefined questions"
      ],
      "metadata": {
        "id": "qUNmYow0a5Xe"
      }
    },
    {
      "cell_type": "code",
      "source": [
        "# Query\n",
        "msgs = []\n",
        "questions = [\n",
        "    \"List a few actors\",\n",
        "    \"Provide a break down of the number of movies each actored played in\",\n",
        "    \"Which movie has the heighest Rating?\"\n",
        "]\n",
        "\n",
        "for q in questions:\n",
        "  print(f\"Question: {q}\")\n",
        "  ans, msgs = g.ask(q, history=msgs)\n",
        "  print(f\"Answer: {ans}\\n\")"
      ],
      "metadata": {
        "colab": {
          "base_uri": "https://localhost:8080/"
        },
        "id": "02XZHFdOY421",
        "outputId": "4f31e139-2626-4930-ed06-34a2b9613973",
        "collapsed": true
      },
      "execution_count": null,
      "outputs": [
        {
          "output_type": "stream",
          "name": "stdout",
          "text": [
            "Question: List a few actors\n",
            "Answer: Here are a few actors:\n",
            "1. Keanu Reeves\n",
            "2. Carrie-Anne Moss\n",
            "3. Yahya Abdul-Mateen II\n",
            "4. Jonathan Groff\n",
            "5. Jessica Henwick\n",
            "\n",
            "Question: Provide a break down of the number of movies each actored played in\n",
            "Answer: Here is the breakdown of the number of movies each actor played in:\n",
            "- Keanu Reeves: 2 movies\n",
            "- Jessica Henwick: 1 movie\n",
            "- Carrie-Anne Moss: 2 movies\n",
            "- Laurence Fishburne: 1 movie\n",
            "- Jonathan Groff: 1 movie\n",
            "- Yahya Abdul-Mateen II: 1 movie\n",
            "\n",
            "Question: Which movie has the heighest Rating?\n",
            "Answer: The movie with the highest rating is \"The Matrix\" with a rating of 83.\n",
            "\n"
          ]
        }
      ]
    },
    {
      "cell_type": "markdown",
      "source": [
        "Q&A Session\n",
        "Type exit to quit."
      ],
      "metadata": {
        "id": "S0H5vAX2azhy"
      }
    },
    {
      "cell_type": "code",
      "source": [
        "while True:\n",
        "  q = input(\"Question: \")\n",
        "  if q == \"exit\":\n",
        "    break\n",
        "\n",
        "  ans, msgs = g.ask(q, history=msgs)\n",
        "  print(f\"Answer: {ans}\\n\")"
      ],
      "metadata": {
        "colab": {
          "base_uri": "https://localhost:8080/"
        },
        "id": "TCTSZGi5ae8n",
        "outputId": "044fba36-bcf4-4d25-a0dc-b79727faf4b5",
        "collapsed": true
      },
      "execution_count": null,
      "outputs": [
        {
          "name": "stdout",
          "output_type": "stream",
          "text": [
            "Question: Which movies are in the dataset ?\n",
            "Answer: The movies in the dataset are:\n",
            "1. The Matrix\n",
            "2. The Matrix Resurrections\n",
            "3. The Matrix Reloaded\n",
            "\n",
            "Question: Which movie has the largest cast ?\n",
            "Answer: The movie with the largest cast is \"The Matrix Resurrections\" with a cast size of 5.\n",
            "\n",
            "Question: exit\n"
          ]
        }
      ]
    }
  ]
}
